{
 "cells": [
  {
   "cell_type": "code",
   "execution_count": 3,
   "id": "34e8093e",
   "metadata": {},
   "outputs": [
    {
     "data": {
      "text/plain": [
       "'https://www.antmanurl.com/ajbalfpo'"
      ]
     },
     "execution_count": 3,
     "metadata": {},
     "output_type": "execute_result"
    }
   ],
   "source": [
    "import random\n",
    "import string\n",
    "d=dict()\n",
    "\n",
    "def getShortURL(longURL):\n",
    "    #length=random value from 6-10\n",
    "    l=random.randint(6,10)\n",
    "    \n",
    "    #generate random characters into a string of length l\n",
    "    chars=string.ascii_lowercase\n",
    "    a=''\n",
    "    shorturl=[]\n",
    "    for i in range (0,l):\n",
    "        a=random.choice(chars)#sampling with replacement\n",
    "        shorturl.append(a)\n",
    "    shorturl=\"\".join(shorturl)\n",
    "    \n",
    "    #to join the elements in the list\n",
    "    #go to w3 and search for \"join\" and \"split\"\n",
    "    #split--> string to list\n",
    "    #join-->\n",
    "    \n",
    "    #check if this string is already present in dict d\n",
    "    if shorturl in d:\n",
    "        return getShortURL(longURL)\n",
    "    else:\n",
    "        d[shorturl]=longURL\n",
    "        \n",
    "    r=\"https://www.antmanurl.com/\"+shorturl\n",
    "    return r\n",
    "\n",
    "getShortURL(\"https://github.com/ParthVitekar/6companies30days/blob/main/ADOBE/10.Elections%20.cpp\")"
   ]
  },
  {
   "cell_type": "code",
   "execution_count": null,
   "id": "a4ba4aa5",
   "metadata": {},
   "outputs": [],
   "source": []
  }
 ],
 "metadata": {
  "kernelspec": {
   "display_name": "Python 3 (ipykernel)",
   "language": "python",
   "name": "python3"
  },
  "language_info": {
   "codemirror_mode": {
    "name": "ipython",
    "version": 3
   },
   "file_extension": ".py",
   "mimetype": "text/x-python",
   "name": "python",
   "nbconvert_exporter": "python",
   "pygments_lexer": "ipython3",
   "version": "3.9.7"
  }
 },
 "nbformat": 4,
 "nbformat_minor": 5
}
